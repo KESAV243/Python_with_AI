{
 "cells": [
  {
   "cell_type": "markdown",
   "id": "5b144ef1",
   "metadata": {},
   "source": [
    "# PYTHON OPERATORS\n",
    " - TO PERFORM OPERATIONS ON VARIABLES AND VALUES"
   ]
  },
  {
   "cell_type": "markdown",
   "id": "0ef00774",
   "metadata": {},
   "source": [
    "# Arthematic operations\n",
    "  "
   ]
  },
  {
   "cell_type": "code",
   "execution_count": 1,
   "id": "8a33323a",
   "metadata": {},
   "outputs": [
    {
     "name": "stdout",
     "output_type": "stream",
     "text": [
      "15\n",
      "5\n",
      "50\n",
      "2.0\n",
      "0\n",
      "100000\n",
      "2\n"
     ]
    }
   ],
   "source": [
    "x=10\n",
    "y=5\n",
    "print(x+y)\n",
    "print(x-y)\n",
    "print(x*y)\n",
    "print(x/y)\n",
    "print(x%y)\n",
    "print(x**y)\n",
    "print(x//y)"
   ]
  },
  {
   "cell_type": "markdown",
   "id": "9ffca30b",
   "metadata": {},
   "source": [
    "# Assignment operators"
   ]
  },
  {
   "cell_type": "code",
   "execution_count": 8,
   "id": "0d21d66f",
   "metadata": {},
   "outputs": [
    {
     "name": "stdout",
     "output_type": "stream",
     "text": [
      "14\n",
      "8\n",
      "48\n",
      "6.857142857142857\n",
      "15160.585946331881\n",
      "3790.0\n",
      "1.0\n"
     ]
    }
   ],
   "source": [
    "x=10\n",
    "x+=4\n",
    "print(x)\n",
    "x-=6\n",
    "print(x)\n",
    "x*=6\n",
    "print(x)\n",
    "x/=7\n",
    "print(x)\n",
    "x**=5\n",
    "print(x)\n",
    "x//=4\n",
    "print(x)\n",
    "x%=3\n",
    "print(x)"
   ]
  },
  {
   "cell_type": "markdown",
   "id": "5d2dbc7e",
   "metadata": {},
   "source": [
    "# Comparision operator\n",
    "- used to compare values\n",
    "- **==**\n",
    "- **!=**\n",
    "- **<**\n",
    "- **>**\n",
    "- **<=**\n",
    "- **>=**"
   ]
  },
  {
   "cell_type": "code",
   "execution_count": 9,
   "id": "a34a223e",
   "metadata": {},
   "outputs": [
    {
     "name": "stdout",
     "output_type": "stream",
     "text": [
      "False\n",
      "True\n",
      "True\n",
      "False\n",
      "True\n",
      "False\n"
     ]
    }
   ],
   "source": [
    "x=10\n",
    "y=12\n",
    "print(x==y)\n",
    "print(x!=y)\n",
    "print(x<y)\n",
    "print(x>y)\n",
    "print(x<=y)\n",
    "print(x>=y)"
   ]
  },
  {
   "cell_type": "markdown",
   "id": "aee130cb",
   "metadata": {},
   "source": [
    "# Logical operators\n",
    "- used to compare conditional statements\n",
    "  - **and**\n",
    "  - **or**\n",
    "  - **not**"
   ]
  },
  {
   "cell_type": "code",
   "execution_count": 12,
   "id": "d49eeba1",
   "metadata": {},
   "outputs": [
    {
     "name": "stdout",
     "output_type": "stream",
     "text": [
      "True\n",
      "True\n",
      "False\n"
     ]
    }
   ],
   "source": [
    "x=31\n",
    "print(x<40 and x>30)\n",
    "print(x>40 or x>30)\n",
    "print(not(x<40 and x>30))\n"
   ]
  },
  {
   "cell_type": "markdown",
   "id": "dc31c93f",
   "metadata": {},
   "source": [
    "# identity operators\n",
    "- used to compare objectives\n",
    "- **is**\n",
    "- ** is not**"
   ]
  },
  {
   "cell_type": "markdown",
   "id": "34b3844d",
   "metadata": {},
   "source": [
    "x=3\n",
    "y=4\n",
    "z=3\n",
    "print(x is y)\n",
    "print(x is z)\n",
    "print(x is not y)"
   ]
  },
  {
   "cell_type": "markdown",
   "id": "886795e5",
   "metadata": {},
   "source": [
    "# Membership operators\n",
    "- - **in**\n",
    "- **not in**"
   ]
  },
  {
   "cell_type": "code",
   "execution_count": 26,
   "id": "59094f75",
   "metadata": {},
   "outputs": [
    {
     "name": "stdout",
     "output_type": "stream",
     "text": [
      "True\n",
      "False\n",
      "False\n"
     ]
    }
   ],
   "source": [
    "b=\"kesav\"\n",
    "print(\"k\" in b)\n",
    "print(\"l\" in b)\n",
    "print(\"s\" not in b)"
   ]
  },
  {
   "cell_type": "markdown",
   "id": "1e31e1df",
   "metadata": {},
   "source": [
    "# control flow statements\n",
    "- Conditional statements\n",
    "    - if-else statement\n",
    "- lopping statements\n",
    "     - while loop statements\n",
    "     - for loop statements\n",
    "     \n",
    "  # if-else statement"
   ]
  },
  {
   "cell_type": "code",
   "execution_count": 27,
   "id": "d5a8c0e8",
   "metadata": {},
   "outputs": [
    {
     "ename": "SyntaxError",
     "evalue": "invalid syntax (Temp/ipykernel_2520/3638834914.py, line 4)",
     "output_type": "error",
     "traceback": [
      "\u001b[1;36m  File \u001b[1;32m\"C:\\Users\\USERT2~1\\AppData\\Local\\Temp/ipykernel_2520/3638834914.py\"\u001b[1;36m, line \u001b[1;32m4\u001b[0m\n\u001b[1;33m    elif:\u001b[0m\n\u001b[1;37m        ^\u001b[0m\n\u001b[1;31mSyntaxError\u001b[0m\u001b[1;31m:\u001b[0m invalid syntax\n"
     ]
    }
   ],
   "source": [
    "#syntax\n",
    "if boolean_condition:\n",
    "    statement\n",
    "elif:\n",
    "    statement\n",
    "else:\n",
    "    statement"
   ]
  },
  {
   "cell_type": "code",
   "execution_count": 1,
   "id": "ba23df5e",
   "metadata": {},
   "outputs": [
    {
     "name": "stdout",
     "output_type": "stream",
     "text": [
      "enter a number:10\n",
      "even number\n"
     ]
    }
   ],
   "source": [
    "# check given number is even or odd\n",
    "n=int(input(\"enter a number:\"))\n",
    "if n%2==0:\n",
    "    print(\"even number\")\n",
    "else:\n",
    "    print(\"odd number\")\n"
   ]
  },
  {
   "cell_type": "code",
   "execution_count": 7,
   "id": "b0fd8c5b",
   "metadata": {},
   "outputs": [
    {
     "name": "stdout",
     "output_type": "stream",
     "text": [
      "enter a number:15\n",
      "yes\n"
     ]
    }
   ],
   "source": [
    "# check the number is multiples of both 3 and 5\n",
    "n=int(input(\"enter a number:\"))\n",
    "if n%3 == 0 and n%5 == 0:\n",
    "    print(\"yes\")\n",
    "else:\n",
    "    print(\"no\")"
   ]
  },
  {
   "cell_type": "code",
   "execution_count": 11,
   "id": "b8ffdbc6",
   "metadata": {},
   "outputs": [
    {
     "name": "stdout",
     "output_type": "stream",
     "text": [
      "Enter a number:45\n",
      "positive number\n"
     ]
    }
   ],
   "source": [
    "# check the given number is positive or negative or zero\n",
    "n=int(input(\"Enter a number:\"))\n",
    "if n>0:\n",
    "    print(\"positive number\")\n",
    "elif n<0:\n",
    "    print(\"negative number\")\n",
    "else:\n",
    "    print(\"zero\")\n",
    "        "
   ]
  },
  {
   "cell_type": "code",
   "execution_count": 13,
   "id": "793d5c38",
   "metadata": {},
   "outputs": [
    {
     "name": "stdout",
     "output_type": "stream",
     "text": [
      "enter a number:12\n",
      "enter a number:14\n",
      "enter a number:21\n",
      "c\n"
     ]
    }
   ],
   "source": [
    "# find the large number by taking any 3 inputs\n",
    "a=int(input(\"enter a number:\"))\n",
    "b=int(input(\"enter a number:\"))\n",
    "c=int(input(\"enter a number:\"))\n",
    "if a>b and a>c:\n",
    "    print(\"a\")\n",
    "elif b>c and b>a:\n",
    "    print(\"b\")\n",
    "else:\n",
    "    print(\"c\")"
   ]
  },
  {
   "cell_type": "code",
   "execution_count": 26,
   "id": "0e1eb68b",
   "metadata": {},
   "outputs": [
    {
     "name": "stdout",
     "output_type": "stream",
     "text": [
      "enter a number:51\n",
      "c\n"
     ]
    }
   ],
   "source": [
    "# find grading\n",
    "n=int(input(\"enter a number:\"))\n",
    "if n<25:\n",
    "    print(\"f\")\n",
    "elif n>=25 and n<=45:\n",
    "    print(\"e\")\n",
    "elif n>45 and n<=50:\n",
    "    print(\"d\")\n",
    "elif n>50 and n<=60:\n",
    "    print(\"c\")\n",
    "elif n>60 and n<=80:\n",
    "    print(\"b\")\n",
    "else:\n",
    "    print(\"a\")"
   ]
  },
  {
   "cell_type": "code",
   "execution_count": 27,
   "id": "3479f01d",
   "metadata": {},
   "outputs": [
    {
     "name": "stdout",
     "output_type": "stream",
     "text": [
      "python\n",
      "python\n",
      "python\n",
      "python\n",
      "python\n"
     ]
    }
   ],
   "source": [
    "i=0\n",
    "while i<5:\n",
    "    print(\"python\")\n",
    "    i=i+1\n"
   ]
  },
  {
   "cell_type": "code",
   "execution_count": 9,
   "id": "1105e815",
   "metadata": {},
   "outputs": [
    {
     "name": "stdout",
     "output_type": "stream",
     "text": [
      "0 1 2 3 4 5 6 7 8 9 10 "
     ]
    }
   ],
   "source": [
    "i=0\n",
    "while i<11:\n",
    "    print(i,end=\" \")\n",
    "    i=i+1"
   ]
  },
  {
   "cell_type": "code",
   "execution_count": 5,
   "id": "c093075f",
   "metadata": {},
   "outputs": [
    {
     "name": "stdout",
     "output_type": "stream",
     "text": [
      "2 4 6 8 10 "
     ]
    }
   ],
   "source": [
    "#print even numbers between 1 to 10\n",
    "i=1\n",
    "while i<11:\n",
    "    if i%2==0:\n",
    "        print(i,end=\" \")\n",
    "    i=i+1"
   ]
  },
  {
   "cell_type": "code",
   "execution_count": 7,
   "id": "9f2622a0",
   "metadata": {},
   "outputs": [
    {
     "name": "stdout",
     "output_type": "stream",
     "text": [
      "6\n",
      "1 2 3 6 "
     ]
    }
   ],
   "source": [
    "# find the multiples of no\n",
    "i=1\n",
    "n = int(input())\n",
    "while i<=n:\n",
    "    if n%i==0:\n",
    "        print(i,end=\" \")\n",
    "    i=i+1\n",
    " "
   ]
  },
  {
   "cell_type": "code",
   "execution_count": 8,
   "id": "9c51ed75",
   "metadata": {},
   "outputs": [
    {
     "name": "stdout",
     "output_type": "stream",
     "text": [
      "12\n",
      "1 2 3 4 6 12 "
     ]
    }
   ],
   "source": [
    "# find the multiples of no\n",
    "i=1\n",
    "n = int(input())\n",
    "while i<=n:\n",
    "    if n%i==0:\n",
    "        print(i,end=\" \")\n",
    "    i=i+1\n",
    " "
   ]
  },
  {
   "cell_type": "code",
   "execution_count": null,
   "id": "b9c81943",
   "metadata": {},
   "outputs": [],
   "source": []
  }
 ],
 "metadata": {
  "kernelspec": {
   "display_name": "Python 3 (ipykernel)",
   "language": "python",
   "name": "python3"
  },
  "language_info": {
   "codemirror_mode": {
    "name": "ipython",
    "version": 3
   },
   "file_extension": ".py",
   "mimetype": "text/x-python",
   "name": "python",
   "nbconvert_exporter": "python",
   "pygments_lexer": "ipython3",
   "version": "3.9.7"
  }
 },
 "nbformat": 4,
 "nbformat_minor": 5
}
