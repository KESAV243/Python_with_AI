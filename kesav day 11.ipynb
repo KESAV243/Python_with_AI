{
 "cells": [
  {
   "cell_type": "code",
   "execution_count": null,
   "id": "ebb72931",
   "metadata": {},
   "outputs": [],
   "source": [
    "#read a file\n",
    "def readfile(filename):\n",
    "    with open(filename,\"r\")asf:\n",
    "        "
   ]
  },
  {
   "cell_type": "code",
   "execution_count": 8,
   "id": "6542faa9",
   "metadata": {},
   "outputs": [
    {
     "data": {
      "text/plain": [
       "20"
      ]
     },
     "execution_count": 8,
     "metadata": {},
     "output_type": "execute_result"
    }
   ],
   "source": [
    "#word count\n",
    "def wordcount(filename):\n",
    "    with open(filename,\"r\") as f:\n",
    "        if f.mode==\"r\":\n",
    "            x=f.read()\n",
    "            l=x.split()\n",
    "        return len(l)\n",
    "wordcount(\"file.txt\")"
   ]
  },
  {
   "cell_type": "code",
   "execution_count": 12,
   "id": "cc716c8b",
   "metadata": {},
   "outputs": [
    {
     "data": {
      "text/plain": [
       "0"
      ]
     },
     "execution_count": 12,
     "metadata": {},
     "output_type": "execute_result"
    }
   ],
   "source": [
    "#specific word count\n",
    "def specific(filename,word):\n",
    "    with open(filename,\"r\") as f:\n",
    "        if f.mode==\"r\":\n",
    "            x=f.read()\n",
    "            l=x.split()\n",
    "            return l.count(word)\n",
    "specific(\"file.txt\",\"line\")"
   ]
  },
  {
   "cell_type": "code",
   "execution_count": 13,
   "id": "3288967b",
   "metadata": {},
   "outputs": [
    {
     "data": {
      "text/plain": [
       "20"
      ]
     },
     "execution_count": 13,
     "metadata": {},
     "output_type": "execute_result"
    }
   ],
   "source": [
    "# count character\n",
    "def char(filename):\n",
    "    with open(filename,\"r\") as f:\n",
    "         if f.mode==\"r\":\n",
    "            x=f.read()\n",
    "            l=x.split()\n",
    "            return len(l)\n",
    "char(\"file.txt\")\n",
    "        "
   ]
  },
  {
   "cell_type": "code",
   "execution_count": 57,
   "id": "4f1e5f3f",
   "metadata": {},
   "outputs": [
    {
     "data": {
      "text/plain": [
       "21"
      ]
     },
     "execution_count": 57,
     "metadata": {},
     "output_type": "execute_result"
    }
   ],
   "source": [
    "# count lines\n",
    "def countlines(filename):\n",
    "    with open(filename,\"r\") as f:\n",
    "         if f.mode==\"r\":\n",
    "            x=f.read()\n",
    "            l=x.split(\"\\n\")\n",
    "    return len(l)\n",
    "countlines(\"file.txt\")"
   ]
  },
  {
   "cell_type": "markdown",
   "id": "1fe0452f",
   "metadata": {},
   "source": [
    "# string slicing:"
   ]
  },
  {
   "cell_type": "code",
   "execution_count": 17,
   "id": "b0754a80",
   "metadata": {},
   "outputs": [
    {
     "name": "stdout",
     "output_type": "stream",
     "text": [
      "python programing <class 'str'>\n"
     ]
    }
   ],
   "source": [
    "s=\"python programing\"\n",
    "print(s,(type(s)))"
   ]
  },
  {
   "cell_type": "code",
   "execution_count": 19,
   "id": "78c86506",
   "metadata": {},
   "outputs": [
    {
     "name": "stdout",
     "output_type": "stream",
     "text": [
      "p\n",
      "g\n",
      "python \n",
      "ython pr\n"
     ]
    }
   ],
   "source": [
    "# access\n",
    "print(s[0])\n",
    "print(s[-1])\n",
    "print(s[0:7])\n",
    "print(s[1:9])"
   ]
  },
  {
   "cell_type": "code",
   "execution_count": 20,
   "id": "92ea78ac",
   "metadata": {},
   "outputs": [
    {
     "name": "stdout",
     "output_type": "stream",
     "text": [
      "ython programin\n",
      "thon programi\n"
     ]
    }
   ],
   "source": [
    "# want to print  string\n",
    "print(s[1:-1])\n",
    "print(s[2:-2])"
   ]
  },
  {
   "cell_type": "code",
   "execution_count": 22,
   "id": "600c7282",
   "metadata": {},
   "outputs": [
    {
     "name": "stdout",
     "output_type": "stream",
     "text": [
      "gnimargorp nohtyp\n",
      "gnimargorp nohtyp\n"
     ]
    }
   ],
   "source": [
    "# reverse\n",
    "s=\"python programing\"\n",
    "print(s[::-1])\n",
    "print(s[-1::-1])"
   ]
  },
  {
   "cell_type": "code",
   "execution_count": 23,
   "id": "b7cb3454",
   "metadata": {},
   "outputs": [
    {
     "data": {
      "text/plain": [
       "'vasek'"
      ]
     },
     "execution_count": 23,
     "metadata": {},
     "output_type": "execute_result"
    }
   ],
   "source": [
    "def reverse(n):\n",
    "    return n[::-1]\n",
    "reverse(\"kesav\")"
   ]
  },
  {
   "cell_type": "markdown",
   "id": "4bbf711c",
   "metadata": {},
   "source": [
    "# Ascii systems\n",
    "- A_Z..>65_90\n",
    "- a_z..>97_121\n",
    "- o-9-48-57\n",
    "- space-32"
   ]
  },
  {
   "cell_type": "code",
   "execution_count": 24,
   "id": "c9e21907",
   "metadata": {},
   "outputs": [
    {
     "name": "stdout",
     "output_type": "stream",
     "text": [
      "y 121 R 82\n"
     ]
    }
   ],
   "source": [
    "s=\"y\"\n",
    "s1=\"R\"\n",
    "print(s,ord(s),s1,ord(s1))"
   ]
  },
  {
   "cell_type": "code",
   "execution_count": 26,
   "id": "5c080851",
   "metadata": {},
   "outputs": [
    {
     "name": "stdout",
     "output_type": "stream",
     "text": [
      "A B C D E F G H I J K L M N O P Q R S T U V W X Y Z "
     ]
    }
   ],
   "source": [
    "# A-Z\n",
    "for i in range (65,91):\n",
    "    print(chr(i),end=\" \")"
   ]
  },
  {
   "cell_type": "code",
   "execution_count": 28,
   "id": "0bb33de0",
   "metadata": {},
   "outputs": [
    {
     "name": "stdout",
     "output_type": "stream",
     "text": [
      "65 66 67 68 69 70 71 72 73 74 75 76 77 78 79 80 81 82 83 84 85 86 87 88 89 90 "
     ]
    }
   ],
   "source": [
    "# a-z\n",
    "for i in range (65,91):\n",
    "    print((i),end=\" \")"
   ]
  },
  {
   "cell_type": "code",
   "execution_count": 30,
   "id": "a92315a5",
   "metadata": {},
   "outputs": [
    {
     "name": "stdout",
     "output_type": "stream",
     "text": [
      "a b c d e f g h i j k l m n o p q r s t u v w x y z "
     ]
    }
   ],
   "source": [
    "# a-z\n",
    "for i in range (97,123):\n",
    "    print(chr(i),end=\" \")"
   ]
  },
  {
   "cell_type": "code",
   "execution_count": 35,
   "id": "eb4de8a4",
   "metadata": {},
   "outputs": [
    {
     "data": {
      "text/plain": [
       "False"
      ]
     },
     "execution_count": 35,
     "metadata": {},
     "output_type": "execute_result"
    }
   ],
   "source": [
    "# check given string is palindrome or not\n",
    "def palindrome(s):\n",
    "    if s==s[::-1]:\n",
    "        return True\n",
    "    return False\n",
    "palindrome(\"python\")"
   ]
  },
  {
   "cell_type": "code",
   "execution_count": 36,
   "id": "7452b612",
   "metadata": {},
   "outputs": [
    {
     "data": {
      "text/plain": [
       "True"
      ]
     },
     "execution_count": 36,
     "metadata": {},
     "output_type": "execute_result"
    }
   ],
   "source": [
    "palindrome(\"aha\")"
   ]
  },
  {
   "cell_type": "code",
   "execution_count": 37,
   "id": "ca3a9a53",
   "metadata": {},
   "outputs": [
    {
     "data": {
      "text/plain": [
       "True"
      ]
     },
     "execution_count": 37,
     "metadata": {},
     "output_type": "execute_result"
    }
   ],
   "source": [
    "palindrome(\"323\")"
   ]
  },
  {
   "cell_type": "code",
   "execution_count": 41,
   "id": "d388dfb8",
   "metadata": {},
   "outputs": [
    {
     "name": "stdout",
     "output_type": "stream",
     "text": [
      "K "
     ]
    }
   ],
   "source": [
    "# print upper case characters from given string\n",
    "def upper(x):\n",
    "    for i in range(len(x)):\n",
    "        if ord(x[i])>65 and ord(x[i])<91:\n",
    "          print(x[i],end=\" \")\n",
    "upper(\"Kesav\")"
   ]
  },
  {
   "cell_type": "code",
   "execution_count": 44,
   "id": "81918d1c",
   "metadata": {},
   "outputs": [
    {
     "name": "stdout",
     "output_type": "stream",
     "text": [
      "e s a v "
     ]
    }
   ],
   "source": [
    "# print lower case characters from given string\n",
    "def lower(x):\n",
    "    for i in range(len(x)):\n",
    "        if ord(x[i])>96 and ord(x[i])<123:\n",
    "          print(x[i],end=\" \")\n",
    "lower(\"Kesav\")"
   ]
  },
  {
   "cell_type": "code",
   "execution_count": 45,
   "id": "409f797b",
   "metadata": {},
   "outputs": [
    {
     "name": "stdout",
     "output_type": "stream",
     "text": [
      "5 6 7 "
     ]
    }
   ],
   "source": [
    "# print digits from given string\n",
    "def digits(x):\n",
    "    for i in range(len(x)):\n",
    "        if ord(x[i])>45 and ord(x[i])<58:\n",
    "          print(x[i],end=\" \")\n",
    "digits(\"Kesav 567\")"
   ]
  },
  {
   "cell_type": "code",
   "execution_count": 46,
   "id": "22506fa0",
   "metadata": {},
   "outputs": [
    {
     "name": "stdout",
     "output_type": "stream",
     "text": [
      "53 54 55 "
     ]
    }
   ],
   "source": [
    "# print digits from given string\n",
    "def digits(x):\n",
    "    for i in range(len(x)):\n",
    "        if ord(x[i])>45 and ord(x[i])<58:\n",
    "          print(ord(x[i]),end=\" \")\n",
    "digits(\"Kesav 567\")"
   ]
  },
  {
   "cell_type": "code",
   "execution_count": 53,
   "id": "3ab67e2b",
   "metadata": {},
   "outputs": [
    {
     "data": {
      "text/plain": [
       "' kEsAV'"
      ]
     },
     "execution_count": 53,
     "metadata": {},
     "output_type": "execute_result"
    }
   ],
   "source": [
    "# input:KeSav\n",
    "# output:kEsAV\n",
    "def case(x):\n",
    "    s1=\" \"\n",
    "    for i in range(len(x)):\n",
    "        if ord(x[i])>65  and ord(x[i])<91:\n",
    "          s1+=chr(ord(x[i])+32)\n",
    "        elif ord(x[i])>96 and ord(x[i])<122:\n",
    "          s1+=chr(ord(x[i])-32)\n",
    "    return s1\n",
    "case(\"KeSav\")"
   ]
  },
  {
   "cell_type": "code",
   "execution_count": 56,
   "id": "4e29de5a",
   "metadata": {},
   "outputs": [
    {
     "data": {
      "text/plain": [
       "15"
      ]
     },
     "execution_count": 56,
     "metadata": {},
     "output_type": "execute_result"
    }
   ],
   "source": [
    "# input:p1y2y3o4\n",
    "# output:10(1+2+3+4)\n",
    "def sum(x):\n",
    "    sum=0\n",
    "    for i in range(len(x)):\n",
    "        if ord(x[i])>=48 and ord(x[i])<=58:\n",
    "            sum+=ord(x[i])-48\n",
    "    return sum\n",
    "sum(\"k1e2s3a4v5\")"
   ]
  },
  {
   "cell_type": "code",
   "execution_count": null,
   "id": "7c2f96ce",
   "metadata": {},
   "outputs": [],
   "source": []
  }
 ],
 "metadata": {
  "kernelspec": {
   "display_name": "Python 3 (ipykernel)",
   "language": "python",
   "name": "python3"
  },
  "language_info": {
   "codemirror_mode": {
    "name": "ipython",
    "version": 3
   },
   "file_extension": ".py",
   "mimetype": "text/x-python",
   "name": "python",
   "nbconvert_exporter": "python",
   "pygments_lexer": "ipython3",
   "version": "3.9.7"
  }
 },
 "nbformat": 4,
 "nbformat_minor": 5
}
