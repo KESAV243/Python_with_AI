{
 "cells": [
  {
   "cell_type": "code",
   "execution_count": 4,
   "id": "ed33defa",
   "metadata": {},
   "outputs": [
    {
     "name": "stdout",
     "output_type": "stream",
     "text": [
      " contact is added\n"
     ]
    }
   ],
   "source": [
    "# Add contacts\n",
    "contacts={}\n",
    "def addcontacts(name,number):\n",
    "    if name not in contacts:\n",
    "        contacts[name]= number\n",
    "        print(\" contact is added\")\n",
    "    else:\n",
    "            print(\"contact already exist\")\n",
    "addcontacts(\"kesav\",\"243\")"
   ]
  },
  {
   "cell_type": "code",
   "execution_count": 5,
   "id": "b25ba992",
   "metadata": {},
   "outputs": [
    {
     "data": {
      "text/plain": [
       "{'kesav': '243'}"
      ]
     },
     "execution_count": 5,
     "metadata": {},
     "output_type": "execute_result"
    }
   ],
   "source": [
    "contacts"
   ]
  },
  {
   "cell_type": "code",
   "execution_count": 7,
   "id": "bac27bd8",
   "metadata": {},
   "outputs": [
    {
     "name": "stdout",
     "output_type": "stream",
     "text": [
      " contact is added\n"
     ]
    }
   ],
   "source": [
    "addcontacts(\"siva\",\"246\")"
   ]
  },
  {
   "cell_type": "code",
   "execution_count": 12,
   "id": "d9bded68",
   "metadata": {},
   "outputs": [
    {
     "name": "stdout",
     "output_type": "stream",
     "text": [
      " contact is added\n"
     ]
    }
   ],
   "source": [
    "addcontacts(\"rupa\",\"229\")"
   ]
  },
  {
   "cell_type": "code",
   "execution_count": 23,
   "id": "c8025535",
   "metadata": {},
   "outputs": [
    {
     "name": "stdout",
     "output_type": "stream",
     "text": [
      " contact is added\n"
     ]
    }
   ],
   "source": [
    "addcontacts(\"kiran\",\"266\")"
   ]
  },
  {
   "cell_type": "code",
   "execution_count": 14,
   "id": "8aeceae3",
   "metadata": {},
   "outputs": [
    {
     "data": {
      "text/plain": [
       "{'kesav': '243', 'siva': '246', 'rupa': '229'}"
      ]
     },
     "execution_count": 14,
     "metadata": {},
     "output_type": "execute_result"
    }
   ],
   "source": [
    "contacts"
   ]
  },
  {
   "cell_type": "code",
   "execution_count": 9,
   "id": "ee584bed",
   "metadata": {},
   "outputs": [
    {
     "name": "stdout",
     "output_type": "stream",
     "text": [
      "kesav : 243\n"
     ]
    }
   ],
   "source": [
    "#search contacts\n",
    "def searchcontacts(name):\n",
    "    if name in contacts:\n",
    "        print(name,\":\",contacts[name])\n",
    "    else:\n",
    "        print(\"contact not exist\")\n",
    "searchcontacts(\"kesav\")"
   ]
  },
  {
   "cell_type": "code",
   "execution_count": 10,
   "id": "cd1041e9",
   "metadata": {},
   "outputs": [
    {
     "name": "stdout",
     "output_type": "stream",
     "text": [
      "siva : 246\n"
     ]
    }
   ],
   "source": [
    "searchcontacts(\"siva\") "
   ]
  },
  {
   "cell_type": "code",
   "execution_count": 11,
   "id": "2679d743",
   "metadata": {},
   "outputs": [
    {
     "name": "stdout",
     "output_type": "stream",
     "text": [
      "contact not exist\n"
     ]
    }
   ],
   "source": [
    "searchcontacts(\"prudhvi\")"
   ]
  },
  {
   "cell_type": "code",
   "execution_count": 34,
   "id": "da10cbd0",
   "metadata": {},
   "outputs": [
    {
     "name": "stdout",
     "output_type": "stream",
     "text": [
      "contact is delete\n"
     ]
    }
   ],
   "source": [
    "#deletecontacts\n",
    "def deletecontacts(name):\n",
    "    if name in contacts:\n",
    "        print(\"contact is delete\")\n",
    "    else:\n",
    "        print(\"contacts not exist\")\n",
    "deletecontacts(\"kiran\")"
   ]
  },
  {
   "cell_type": "code",
   "execution_count": 35,
   "id": "6975e2d9",
   "metadata": {},
   "outputs": [
    {
     "name": "stdout",
     "output_type": "stream",
     "text": [
      "contact is delete\n"
     ]
    }
   ],
   "source": [
    "deletecontacts(\"siva\")"
   ]
  },
  {
   "cell_type": "code",
   "execution_count": 37,
   "id": "c7284e85",
   "metadata": {},
   "outputs": [
    {
     "name": "stdout",
     "output_type": "stream",
     "text": [
      "contact is delete\n"
     ]
    }
   ],
   "source": [
    "deletecontacts(\"siva\")"
   ]
  },
  {
   "cell_type": "code",
   "execution_count": 42,
   "id": "a124d262",
   "metadata": {},
   "outputs": [
    {
     "name": "stdout",
     "output_type": "stream",
     "text": [
      "3 contacts are added\n"
     ]
    }
   ],
   "source": [
    "#merge contacts:\n",
    "def mergecontacts(newcontacts):\n",
    "    contacts.update(newcontacts)\n",
    "    print(len(newcontacts.keys()),\"contacts are added\")\n",
    "newcontacts={\"prudhvi\":\"55333\",\"sindu\":\"230\",\"niranjan\":\"249\"}\n",
    "mergecontacts(newcontacts)"
   ]
  },
  {
   "cell_type": "code",
   "execution_count": 43,
   "id": "980e6343",
   "metadata": {},
   "outputs": [
    {
     "data": {
      "text/plain": [
       "{'kesav': '243',\n",
       " 'siva': '246',\n",
       " 'rupa': '229',\n",
       " 'kiran': '266',\n",
       " 'prudhvi': '55333',\n",
       " 'sindu': '230',\n",
       " 'niranjan': '249'}"
      ]
     },
     "execution_count": 43,
     "metadata": {},
     "output_type": "execute_result"
    }
   ],
   "source": [
    "contacts"
   ]
  },
  {
   "cell_type": "markdown",
   "id": "b1a23eec",
   "metadata": {},
   "source": [
    "# string\n",
    " .upper\n",
    " .lower\n",
    " .join\n",
    " .split\n",
    " .replace"
   ]
  },
  {
   "cell_type": "code",
   "execution_count": 44,
   "id": "0b4106df",
   "metadata": {},
   "outputs": [
    {
     "name": "stdout",
     "output_type": "stream",
     "text": [
      "kesav\n",
      "KESAV\n",
      "kesav\n",
      "k,e,s,a,v\n",
      "k@e@s@a@v\n"
     ]
    }
   ],
   "source": [
    "s=\"kesav\"\n",
    "print(s.lower())\n",
    "print(s.upper())\n",
    "print(\"\".join(s))\n",
    "print(\",\".join(s))\n",
    "print(\"@\".join(s))"
   ]
  },
  {
   "cell_type": "code",
   "execution_count": 46,
   "id": "344d5a15",
   "metadata": {},
   "outputs": [
    {
     "name": "stdout",
     "output_type": "stream",
     "text": [
      "['kesav', 'is', 'talented']\n",
      "['ke', 'av i', ' talented']\n",
      "['kes', 'v is t', 'lented']\n"
     ]
    }
   ],
   "source": [
    "#split method:\n",
    "s=\"kesav is talented\"\n",
    "print(s.split())\n",
    "print(s.split(\"s\"))\n",
    "print(s.split(\"a\"))"
   ]
  },
  {
   "cell_type": "code",
   "execution_count": 47,
   "id": "a74a5235",
   "metadata": {},
   "outputs": [
    {
     "name": "stdout",
     "output_type": "stream",
     "text": [
      "kesav is impressive\n"
     ]
    }
   ],
   "source": [
    "s=\"kesav is talented\"\n",
    "print(s.replace(\"talented\",\"impressive\"))"
   ]
  },
  {
   "cell_type": "code",
   "execution_count": 48,
   "id": "5f4272e8",
   "metadata": {},
   "outputs": [
    {
     "name": "stdout",
     "output_type": "stream",
     "text": [
      "['kesav', 'is', 'talented']\n",
      "['ke', 'av i', ' talented']\n",
      "['kes', 'v is t', 'lented']\n"
     ]
    }
   ],
   "source": [
    "print(s.split())\n",
    "print(s.split(\"s\"))\n",
    "print(s.split(\"a\"))"
   ]
  },
  {
   "cell_type": "markdown",
   "id": "d4ed134a",
   "metadata": {},
   "source": [
    "# boolean function\n",
    "- islower()\n",
    "- isupper()\n",
    "- istitle()\n",
    "- isnumer()\n",
    "- isspace()"
   ]
  },
  {
   "cell_type": "code",
   "execution_count": 51,
   "id": "8f57dcda",
   "metadata": {},
   "outputs": [
    {
     "name": "stdout",
     "output_type": "stream",
     "text": [
      "True\n",
      "False\n",
      "False\n"
     ]
    }
   ],
   "source": [
    "s=  \"python\"\n",
    "print(s.islower())\n",
    "print(s.isupper())\n",
    "print(s.istitle())"
   ]
  },
  {
   "cell_type": "code",
   "execution_count": 55,
   "id": "5dd0757d",
   "metadata": {},
   "outputs": [
    {
     "name": "stdout",
     "output_type": "stream",
     "text": [
      "False\n",
      "True\n",
      "True\n"
     ]
    }
   ],
   "source": [
    "s1=\"Python\"\n",
    "print(s1.isupper())\n",
    "print(s1.istitle())\n",
    "print(s1.isalpha())"
   ]
  },
  {
   "cell_type": "code",
   "execution_count": 58,
   "id": "3dc755ee",
   "metadata": {},
   "outputs": [
    {
     "name": "stdout",
     "output_type": "stream",
     "text": [
      "False\n",
      "True\n",
      "True\n"
     ]
    }
   ],
   "source": [
    "s3=\"Python\"\n",
    "print(s3.isnumeric())\n",
    "print(s3.istitle())\n",
    "print(s3.isalpha())"
   ]
  },
  {
   "cell_type": "markdown",
   "id": "ec06396b",
   "metadata": {},
   "source": [
    "# file handling\n"
   ]
  },
  {
   "cell_type": "code",
   "execution_count": 60,
   "id": "89605983",
   "metadata": {},
   "outputs": [
    {
     "name": "stdout",
     "output_type": "stream",
     "text": [
      "Welcome to python\n"
     ]
    }
   ],
   "source": [
    "f=open(\"file.txt\",\"r\")\n",
    "print(f.read())"
   ]
  },
  {
   "cell_type": "code",
   "execution_count": 61,
   "id": "e8e4e0ec",
   "metadata": {},
   "outputs": [
    {
     "name": "stdout",
     "output_type": "stream",
     "text": [
      "Welcom\n"
     ]
    }
   ],
   "source": [
    "f=open(\"file.txt\",\"r\")\n",
    "print(f.read(6))"
   ]
  },
  {
   "cell_type": "code",
   "execution_count": 64,
   "id": "99059d31",
   "metadata": {},
   "outputs": [
    {
     "name": "stdout",
     "output_type": "stream",
     "text": [
      "Welcome to python\n",
      "\n",
      "1st line\n",
      "\n",
      "2nd line\n",
      "\n",
      "3rd line\n"
     ]
    }
   ],
   "source": [
    "f=open(\"file.txt\",\"r\")\n",
    "print(f.readline())\n",
    "print(f.readline())\n",
    "print(f.readline())\n",
    "print(f.readline())"
   ]
  },
  {
   "cell_type": "code",
   "execution_count": 66,
   "id": "6f4a9037",
   "metadata": {},
   "outputs": [
    {
     "name": "stdout",
     "output_type": "stream",
     "text": [
      "file is created\n"
     ]
    }
   ],
   "source": [
    "#create a file and write something to file\n",
    "def createfile(filename):\n",
    "    f=open(filename,\"w\")\n",
    "    for i in range(10):\n",
    "        f.write(\"helloworld\\n\")\n",
    "    print(\"file is created\")\n",
    "createfile(\"file.txt\")"
   ]
  },
  {
   "cell_type": "code",
   "execution_count": 69,
   "id": "8aa3d18d",
   "metadata": {},
   "outputs": [
    {
     "name": "stdout",
     "output_type": "stream",
     "text": [
      "file is created\n"
     ]
    }
   ],
   "source": [
    "#append\n",
    "def createfile(filename):\n",
    "    f=open(filename,\"a\")\n",
    "    for i in range(10):\n",
    "        f.write(\"readline\\n\")\n",
    "    print(\"file is created\")\n",
    "createfile(\"file.txt\")"
   ]
  },
  {
   "cell_type": "code",
   "execution_count": null,
   "id": "8efb3a2e",
   "metadata": {},
   "outputs": [],
   "source": []
  }
 ],
 "metadata": {
  "kernelspec": {
   "display_name": "Python 3 (ipykernel)",
   "language": "python",
   "name": "python3"
  },
  "language_info": {
   "codemirror_mode": {
    "name": "ipython",
    "version": 3
   },
   "file_extension": ".py",
   "mimetype": "text/x-python",
   "name": "python",
   "nbconvert_exporter": "python",
   "pygments_lexer": "ipython3",
   "version": "3.9.7"
  }
 },
 "nbformat": 4,
 "nbformat_minor": 5
}
