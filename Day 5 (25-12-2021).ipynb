{
 "cells": [
  {
   "cell_type": "markdown",
   "id": "f23149da",
   "metadata": {},
   "source": [
    "# KESAV\n",
    "## ANIL\n",
    "### RUPA\n",
    "#### SINDU\n",
    "##### PRUDHVI\n",
    "###### SANDEEP\n",
    "\n",
    " - PYTHON\n",
    "   - PYTHON1\n",
    "    - PYTHON2\n",
    "     \n",
    "      \n",
    " # FONT STRYLES\n",
    "   - **BOLD**\n",
    "   - *ITALIC*\n",
    "   - *** BOLD ITALIC ***\n",
    "    \n",
    " # print function\n",
    "   - in python print function used to print specific text or message"
   ]
  },
  {
   "cell_type": "code",
   "execution_count": 3,
   "id": "e4f83144",
   "metadata": {},
   "outputs": [
    {
     "name": "stdout",
     "output_type": "stream",
     "text": [
      "hello world\n"
     ]
    }
   ],
   "source": [
    "print(\"hello world\")"
   ]
  },
  {
   "cell_type": "code",
   "execution_count": 6,
   "id": "57db8bb4",
   "metadata": {},
   "outputs": [
    {
     "name": "stdout",
     "output_type": "stream",
     "text": [
      "pulihora anil\n"
     ]
    }
   ],
   "source": [
    "print(\"pulihora anil\")"
   ]
  },
  {
   "cell_type": "code",
   "execution_count": 7,
   "id": "236fd49d",
   "metadata": {},
   "outputs": [
    {
     "name": "stdout",
     "output_type": "stream",
     "text": [
      "drum sindu\n"
     ]
    }
   ],
   "source": [
    "print(\"drum sindu\")"
   ]
  },
  {
   "cell_type": "code",
   "execution_count": 9,
   "id": "0eaaf8cc",
   "metadata": {},
   "outputs": [
    {
     "name": "stdout",
     "output_type": "stream",
     "text": [
      "actor rupa\n"
     ]
    }
   ],
   "source": [
    "print(\"actor rupa\")"
   ]
  },
  {
   "cell_type": "code",
   "execution_count": 10,
   "id": "d074ccf8",
   "metadata": {},
   "outputs": [
    {
     "name": "stdout",
     "output_type": "stream",
     "text": [
      "kesav\n"
     ]
    }
   ],
   "source": [
    "print(\"kesav\")"
   ]
  },
  {
   "cell_type": "code",
   "execution_count": 11,
   "id": "a7bd4a42",
   "metadata": {},
   "outputs": [
    {
     "name": "stdout",
     "output_type": "stream",
     "text": [
      "insta prudhvi\n"
     ]
    }
   ],
   "source": [
    "print(\"insta prudhvi\")"
   ]
  },
  {
   "cell_type": "markdown",
   "id": "cb598055",
   "metadata": {},
   "source": [
    "# variable\n",
    "- to store some data value"
   ]
  },
  {
   "cell_type": "code",
   "execution_count": 20,
   "id": "702e0a14",
   "metadata": {},
   "outputs": [
    {
     "name": "stdout",
     "output_type": "stream",
     "text": [
      "10\n"
     ]
    }
   ],
   "source": [
    " a=10\n",
    "print(a)"
   ]
  },
  {
   "cell_type": "code",
   "execution_count": 21,
   "id": "4943d428",
   "metadata": {},
   "outputs": [
    {
     "name": "stdout",
     "output_type": "stream",
     "text": [
      "10 10 10\n"
     ]
    }
   ],
   "source": [
    "a=b=c=10\n",
    "print(a,b,c)"
   ]
  },
  {
   "cell_type": "code",
   "execution_count": 22,
   "id": "3dcf6d13",
   "metadata": {},
   "outputs": [
    {
     "name": "stdout",
     "output_type": "stream",
     "text": [
      "10 21 32\n"
     ]
    }
   ],
   "source": [
    "a,b,c =10,21,32\n",
    "print(a,b,c)"
   ]
  },
  {
   "cell_type": "markdown",
   "id": "990b4eed",
   "metadata": {},
   "source": [
    "# input function\n",
    "- ***used accept the data from the action or user of the code***"
   ]
  },
  {
   "cell_type": "code",
   "execution_count": 23,
   "id": "cd8c0dc3",
   "metadata": {},
   "outputs": [
    {
     "name": "stdout",
     "output_type": "stream",
     "text": [
      "enter your name:kesav\n",
      " your name is: kesav\n",
      "<class 'str'>\n"
     ]
    }
   ],
   "source": [
    "# input as text\n",
    "x= input(\"enter your name:\")\n",
    "print(\" your name is:\",x)\n",
    "print(type(x))"
   ]
  },
  {
   "cell_type": "code",
   "execution_count": 25,
   "id": "a6890f3a",
   "metadata": {},
   "outputs": [
    {
     "name": "stdout",
     "output_type": "stream",
     "text": [
      "enter a age:21\n",
      "21\n",
      "<class 'int'>\n"
     ]
    }
   ],
   "source": [
    "# input as a number\n",
    "n=int(input(\"enter a age:\"))\n",
    "print(n)\n",
    "print(type(n))"
   ]
  },
  {
   "cell_type": "markdown",
   "id": "893e3909",
   "metadata": {},
   "source": [
    "# data type:"
   ]
  },
  {
   "cell_type": "code",
   "execution_count": 30,
   "id": "f8a70494",
   "metadata": {},
   "outputs": [
    {
     "name": "stdout",
     "output_type": "stream",
     "text": [
      "12\n",
      "<class 'int'>\n"
     ]
    }
   ],
   "source": [
    "# integer\n",
    "k=12\n",
    "print(k)\n",
    "print(type (k))"
   ]
  },
  {
   "cell_type": "code",
   "execution_count": 35,
   "id": "19f9510c",
   "metadata": {},
   "outputs": [
    {
     "name": "stdout",
     "output_type": "stream",
     "text": [
      "10.9\n",
      "<class 'float'>\n"
     ]
    }
   ],
   "source": [
    "# foat\n",
    "k=10.9\n",
    "print(k)\n",
    "print(type(k))"
   ]
  },
  {
   "cell_type": "code",
   "execution_count": 34,
   "id": "407a9382",
   "metadata": {},
   "outputs": [
    {
     "name": "stdout",
     "output_type": "stream",
     "text": [
      "143\n",
      "<class 'str'>\n"
     ]
    }
   ],
   "source": [
    "# string\n",
    "k=\"143\"\n",
    "print(k)\n",
    "print(type(k))"
   ]
  },
  {
   "cell_type": "markdown",
   "id": "5a42eee3",
   "metadata": {},
   "source": [
    "# Data converstions"
   ]
  },
  {
   "cell_type": "code",
   "execution_count": 38,
   "id": "2ac918a0",
   "metadata": {},
   "outputs": [
    {
     "name": "stdout",
     "output_type": "stream",
     "text": [
      "456 <class 'int'>\n",
      "456.0 <class 'float'>\n",
      "456 <class 'str'>\n"
     ]
    }
   ],
   "source": [
    "# INTEGER\n",
    "k=456\n",
    "print(k,type(k))\n",
    "f=float(k)\n",
    "print(f,type(f))\n",
    "s=str(k)\n",
    "print(s,type (s))"
   ]
  },
  {
   "cell_type": "code",
   "execution_count": 39,
   "id": "72aca82f",
   "metadata": {},
   "outputs": [
    {
     "name": "stdout",
     "output_type": "stream",
     "text": [
      "43.2 <class 'float'>\n",
      "43 <class 'int'>\n",
      "43.2 <class 'str'>\n"
     ]
    }
   ],
   "source": [
    "# float\n",
    "k=43.2\n",
    "print(k,type(k))\n",
    "i=int(k)\n",
    "print(i,type(i))\n",
    "s=str(k)\n",
    "print(s,type(s))\n"
   ]
  },
  {
   "cell_type": "code",
   "execution_count": 40,
   "id": "15cc8cf4",
   "metadata": {},
   "outputs": [
    {
     "name": "stdout",
     "output_type": "stream",
     "text": [
      "54 <class 'str'>\n",
      "54 <class 'int'>\n",
      "54.0 <class 'float'>\n"
     ]
    }
   ],
   "source": [
    "# string\n",
    "k=\"54\"\n",
    "print(k,type(k))\n",
    "i=int(k)\n",
    "print(i,type(i))\n",
    "f=float(k)\n",
    "print(f,type(f))"
   ]
  },
  {
   "cell_type": "markdown",
   "id": "a62e4d82",
   "metadata": {},
   "source": [
    "# Questions"
   ]
  },
  {
   "cell_type": "markdown",
   "id": "6202860e",
   "metadata": {},
   "source": [
    "Display three string “Name”, “Is”, “James” as “Name**Is**James”"
   ]
  },
  {
   "cell_type": "code",
   "execution_count": 46,
   "id": "d00253ea",
   "metadata": {},
   "outputs": [
    {
     "name": "stdout",
     "output_type": "stream",
     "text": [
      "enter your nameJames\n",
      "name is James\n"
     ]
    }
   ],
   "source": [
    "k=input(\"enter your name\")\n",
    "print(\"name is\",k)"
   ]
  },
  {
   "cell_type": "markdown",
   "id": "4d9e2d6c",
   "metadata": {},
   "source": [
    "Write a Python program which accepts the radius of a circle from the user and compute the area "
   ]
  },
  {
   "cell_type": "code",
   "execution_count": 47,
   "id": "19f57813",
   "metadata": {},
   "outputs": [
    {
     "name": "stdout",
     "output_type": "stream",
     "text": [
      "enter the radius5\n",
      "78.5\n"
     ]
    }
   ],
   "source": [
    "pi=3.14\n",
    "r=float(input(\"enter the radius\"))\n",
    "print(pi*r*r)"
   ]
  },
  {
   "cell_type": "code",
   "execution_count": 1,
   "id": "a5a8494c",
   "metadata": {},
   "outputs": [
    {
     "name": "stdout",
     "output_type": "stream",
     "text": [
      "5\n",
      "10\n",
      "15 -5 50 0.5\n"
     ]
    }
   ],
   "source": [
    "a=int(input())\n",
    "b=int(input())\n",
    "k=a+b\n",
    "e=a-b\n",
    "r=a*b\n",
    "u=a/b\n",
    "print(k,e,r,u)"
   ]
  },
  {
   "cell_type": "code",
   "execution_count": null,
   "id": "d46095e1",
   "metadata": {},
   "outputs": [],
   "source": []
  }
 ],
 "metadata": {
  "kernelspec": {
   "display_name": "Python 3 (ipykernel)",
   "language": "python",
   "name": "python3"
  },
  "language_info": {
   "codemirror_mode": {
    "name": "ipython",
    "version": 3
   },
   "file_extension": ".py",
   "mimetype": "text/x-python",
   "name": "python",
   "nbconvert_exporter": "python",
   "pygments_lexer": "ipython3",
   "version": "3.9.7"
  }
 },
 "nbformat": 4,
 "nbformat_minor": 5
}
